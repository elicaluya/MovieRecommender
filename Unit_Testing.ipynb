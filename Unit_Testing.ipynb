{
 "cells": [
  {
   "cell_type": "markdown",
   "metadata": {},
   "source": [
    "## App"
   ]
  },
  {
   "cell_type": "code",
   "execution_count": 3,
   "metadata": {},
   "outputs": [],
   "source": [
    "import mock\n",
    "from App import App"
   ]
  },
  {
   "cell_type": "code",
   "execution_count": 6,
   "metadata": {},
   "outputs": [
    {
     "name": "stdout",
     "output_type": "stream",
     "text": [
      "All Passed\n"
     ]
    }
   ],
   "source": [
    "import contextlib\n",
    "with contextlib.ExitStack() as patches:\n",
    "    mock_knn = patches.enter_context(mock.patch('App.Knn'))\n",
    "    mock_genre = patches.enter_context(mock.patch('App.Genre'))\n",
    "    mock_bs = patches.enter_context(mock.patch('App.bs'))\n",
    "    mock_ms = patches.enter_context(mock.patch('App.ms'))\n",
    "    mock_us = patches.enter_context(mock.patch('App.us'))\n",
    "    mock_cs = patches.enter_context(mock.patch('App.cs'))\n",
    "    mock_rs = patches.enter_context(mock.patch('App.rs'))\n",
    "    mock_md = patches.enter_context(mock.patch('App.md'))\n",
    "    mock_ud = patches.enter_context(mock.patch('App.ud'))\n",
    "    mock_rd = patches.enter_context(mock.patch('App.rd'))\n",
    "    mock_ui = patches.enter_context(mock.patch('App.UI'))\n",
    "    app = App()\n",
    "    app.configure()\n",
    "    mock_bs.MovieService.assert_called_once()\n",
    "    mock_bs.UserService.assert_called_once()\n",
    "    mock_bs.RatingService.assert_called_once()\n",
    "    mock_bs.RecommendService.assert_called_once()\n",
    "    mock_ms.MovieService.assert_called_once()\n",
    "    mock_us.UserService.assert_called_once()\n",
    "    mock_cs.RecommendService.assert_called_once()\n",
    "    mock_rs.RatingService.assert_called_once()\n",
    "    mock_md.MovieData.assert_called_once()\n",
    "    mock_ud.UserData.assert_called_once()\n",
    "    mock_rd.RatingData.assert_called_once()\n",
    "    mock_ui.assert_called_once()\n",
    "    mock_knn.assert_called_once_with('pearson', 10)\n",
    "    mock_genre.assert_called_once()\n",
    "    print(\"All Passed\")"
   ]
  },
  {
   "cell_type": "code",
   "execution_count": 25,
   "metadata": {},
   "outputs": [
    {
     "data": {
      "text/plain": [
       "'unknown'"
      ]
     },
     "execution_count": 25,
     "metadata": {},
     "output_type": "execute_result"
    }
   ],
   "source": [
    "app.bs_movie.get_movie_by_title(\"unknown\").get_title()"
   ]
  },
  {
   "cell_type": "code",
   "execution_count": null,
   "metadata": {},
   "outputs": [],
   "source": []
  }
 ],
 "metadata": {
  "kernelspec": {
   "display_name": "Python 3",
   "language": "python",
   "name": "python3"
  },
  "language_info": {
   "codemirror_mode": {
    "name": "ipython",
    "version": 3
   },
   "file_extension": ".py",
   "mimetype": "text/x-python",
   "name": "python",
   "nbconvert_exporter": "python",
   "pygments_lexer": "ipython3",
   "version": "3.8.5"
  }
 },
 "nbformat": 4,
 "nbformat_minor": 4
}
