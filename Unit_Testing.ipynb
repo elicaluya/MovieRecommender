{
 "cells": [
  {
   "cell_type": "markdown",
   "metadata": {},
   "source": [
    "## App"
   ]
  },
  {
   "cell_type": "code",
   "execution_count": 74,
   "metadata": {},
   "outputs": [],
   "source": [
    "import mock\n",
    "from App import App"
   ]
  },
  {
   "cell_type": "code",
   "execution_count": 75,
   "metadata": {},
   "outputs": [
    {
     "name": "stdout",
     "output_type": "stream",
     "text": [
      "All Passed\n"
     ]
    }
   ],
   "source": [
    "import contextlib\n",
    "with contextlib.ExitStack() as patches:\n",
    "    mock_knn = patches.enter_context(mock.patch('App.Knn'))\n",
    "    mock_bs = patches.enter_context(mock.patch('App.bs'))\n",
    "    mock_ms = patches.enter_context(mock.patch('App.ms'))\n",
    "    mock_us = patches.enter_context(mock.patch('App.us'))\n",
    "    mock_cs = patches.enter_context(mock.patch('App.cs'))\n",
    "    mock_rs = patches.enter_context(mock.patch('App.rs'))\n",
    "    mock_md = patches.enter_context(mock.patch('App.md'))\n",
    "    mock_ud = patches.enter_context(mock.patch('App.ud'))\n",
    "    mock_rd = patches.enter_context(mock.patch('App.rd'))\n",
    "    mock_ui = patches.enter_context(mock.patch('App.UI'))\n",
    "    app = App()\n",
    "    app.configure()\n",
    "    mock_bs.MovieService.assert_called_once()\n",
    "    mock_bs.UserService.assert_called_once()\n",
    "    mock_bs.RatingService.assert_called_once()\n",
    "    mock_bs.RecommendService.assert_called_once()\n",
    "    mock_ms.MovieService.assert_called_once()\n",
    "    mock_us.UserService.assert_called_once()\n",
    "    mock_cs.RecommendService.assert_called_once()\n",
    "    mock_rs.RatingService.assert_called_once()\n",
    "    mock_md.MovieData.assert_called_once()\n",
    "    mock_ud.UserData.assert_called_once()\n",
    "    mock_rd.RatingData.assert_called_once()\n",
    "    mock_ui.assert_called_once()\n",
    "    mock_knn.assert_called_once_with('pearson', 10)\n",
    "    print(\"All Passed\")"
   ]
  },
  {
   "cell_type": "code",
   "execution_count": 20,
   "metadata": {},
   "outputs": [
    {
     "data": {
      "text/plain": [
       "<App.App at 0x7fc71fc1ed90>"
      ]
     },
     "execution_count": 20,
     "metadata": {},
     "output_type": "execute_result"
    }
   ],
   "source": [
    "app"
   ]
  },
  {
   "cell_type": "code",
   "execution_count": 25,
   "metadata": {},
   "outputs": [
    {
     "data": {
      "text/plain": [
       "'unknown'"
      ]
     },
     "execution_count": 25,
     "metadata": {},
     "output_type": "execute_result"
    }
   ],
   "source": [
    "app.bs_movie.get_movie_by_title(\"unknown\").get_title()"
   ]
  },
  {
   "cell_type": "code",
   "execution_count": 15,
   "metadata": {},
   "outputs": [
    {
     "ename": "AttributeError",
     "evalue": "'Knn' object has no attribute 'get_something'",
     "output_type": "error",
     "traceback": [
      "\u001b[0;31m---------------------------------------------------------------------------\u001b[0m",
      "\u001b[0;31mAttributeError\u001b[0m                            Traceback (most recent call last)",
      "\u001b[0;32m<ipython-input-15-0fa9168d16c5>\u001b[0m in \u001b[0;36m<module>\u001b[0;34m\u001b[0m\n\u001b[0;32m----> 1\u001b[0;31m \u001b[0mapp\u001b[0m\u001b[0;34m.\u001b[0m\u001b[0mbs_recommend\u001b[0m\u001b[0;34m.\u001b[0m\u001b[0mrecommend_service\u001b[0m\u001b[0;34m.\u001b[0m\u001b[0mknn\u001b[0m\u001b[0;34m.\u001b[0m\u001b[0mget_something\u001b[0m\u001b[0;34m\u001b[0m\u001b[0;34m\u001b[0m\u001b[0m\n\u001b[0m",
      "\u001b[0;31mAttributeError\u001b[0m: 'Knn' object has no attribute 'get_something'"
     ]
    }
   ],
   "source": [
    "app.bs_recommend.recommend_service.knn.get_something"
   ]
  },
  {
   "cell_type": "code",
   "execution_count": null,
   "metadata": {},
   "outputs": [],
   "source": []
  }
 ],
 "metadata": {
  "kernelspec": {
   "display_name": "Python 3",
   "language": "python",
   "name": "python3"
  },
  "language_info": {
   "codemirror_mode": {
    "name": "ipython",
    "version": 3
   },
   "file_extension": ".py",
   "mimetype": "text/x-python",
   "name": "python",
   "nbconvert_exporter": "python",
   "pygments_lexer": "ipython3",
   "version": "3.8.5"
  }
 },
 "nbformat": 4,
 "nbformat_minor": 4
}
