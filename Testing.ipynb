{
 "cells": [
  {
   "cell_type": "markdown",
   "metadata": {},
   "source": [
    "## App"
   ]
  },
  {
   "cell_type": "code",
   "execution_count": 1,
   "metadata": {},
   "outputs": [],
   "source": [
    "import numpy as np\n",
    "import pandas as pd\n",
    "import mock\n",
    "from App import App"
   ]
  },
  {
   "cell_type": "code",
   "execution_count": 2,
   "metadata": {},
   "outputs": [
    {
     "name": "stdout",
     "output_type": "stream",
     "text": [
      "All Passed\n"
     ]
    }
   ],
   "source": [
    "import contextlib\n",
    "with contextlib.ExitStack() as patches:\n",
    "    mock_knn = patches.enter_context(mock.patch('Knn.Knn'))\n",
    "    mock_genre = patches.enter_context(mock.patch('Genre.Genre'))\n",
    "    mock_ui = patches.enter_context(mock.patch('UI.UI'))\n",
    "    mock_su = patches.enter_context(mock.patch('Service.UserService'))\n",
    "    mock_sm = patches.enter_context(mock.patch('Service.MovieService'))\n",
    "    mock_sc = patches.enter_context(mock.patch('Service.RecommendService'))\n",
    "    mock_sr = patches.enter_context(mock.patch('Service.RatingService'))\n",
    "    mock_us = patches.enter_context(mock.patch('UserService.UserService'))\n",
    "    mock_ms = patches.enter_context(mock.patch('MovieService.MovieService'))\n",
    "    mock_cs = patches.enter_context(mock.patch('RecommendService.RecommendService'))\n",
    "    mock_rs = patches.enter_context(mock.patch('RatingService.RatingService'))\n",
    "    mock_ud = patches.enter_context(mock.patch('UserData.UserData'))\n",
    "    mock_md = patches.enter_context(mock.patch('MovieData.MovieData'))\n",
    "    mock_rd = patches.enter_context(mock.patch('RatingData.RatingData'))\n",
    "    app = App()\n",
    "    app.configure()\n",
    "    # objects are all created only once\n",
    "    mock_su.assert_called_once()\n",
    "    mock_sm.assert_called_once()\n",
    "    mock_sc.assert_called_once()\n",
    "    mock_sr.assert_called_once()\n",
    "    mock_us.assert_called_once()\n",
    "    mock_ms.assert_called_once()\n",
    "    mock_cs.assert_called_once()\n",
    "    mock_rs.assert_called_once()\n",
    "    mock_ud.assert_called_once()\n",
    "    mock_md.assert_called_once()\n",
    "    mock_rd.assert_called_once()\n",
    "    mock_ui.assert_called_once()\n",
    "    mock_genre.assert_called_once()\n",
    "    mock_knn.assert_called_once_with('correlation')\n",
    "    print(\"All Passed\")"
   ]
  },
  {
   "cell_type": "markdown",
   "metadata": {},
   "source": [
    "### Rating recommendation"
   ]
  },
  {
   "cell_type": "code",
   "execution_count": 3,
   "metadata": {},
   "outputs": [
    {
     "data": {
      "text/html": [
       "<div>\n",
       "<style scoped>\n",
       "    .dataframe tbody tr th:only-of-type {\n",
       "        vertical-align: middle;\n",
       "    }\n",
       "\n",
       "    .dataframe tbody tr th {\n",
       "        vertical-align: top;\n",
       "    }\n",
       "\n",
       "    .dataframe thead th {\n",
       "        text-align: right;\n",
       "    }\n",
       "</style>\n",
       "<table border=\"1\" class=\"dataframe\">\n",
       "  <thead>\n",
       "    <tr style=\"text-align: right;\">\n",
       "      <th></th>\n",
       "      <th>movie_id</th>\n",
       "      <th>title</th>\n",
       "      <th>release_date</th>\n",
       "      <th>video_release_date</th>\n",
       "      <th>IMDb_URL</th>\n",
       "      <th>unknown</th>\n",
       "      <th>Action</th>\n",
       "      <th>Adventure</th>\n",
       "      <th>Animation</th>\n",
       "      <th>Childrens</th>\n",
       "      <th>...</th>\n",
       "      <th>Fantasy</th>\n",
       "      <th>Film-Noir</th>\n",
       "      <th>Horror</th>\n",
       "      <th>Musical</th>\n",
       "      <th>Mystery</th>\n",
       "      <th>Romance</th>\n",
       "      <th>Sci-Fi</th>\n",
       "      <th>Thriller</th>\n",
       "      <th>War</th>\n",
       "      <th>Western</th>\n",
       "    </tr>\n",
       "  </thead>\n",
       "  <tbody>\n",
       "    <tr>\n",
       "      <th>0</th>\n",
       "      <td>1</td>\n",
       "      <td>test</td>\n",
       "      <td>None</td>\n",
       "      <td>None</td>\n",
       "      <td>None</td>\n",
       "      <td>0</td>\n",
       "      <td>1</td>\n",
       "      <td>0</td>\n",
       "      <td>0</td>\n",
       "      <td>0</td>\n",
       "      <td>...</td>\n",
       "      <td>0</td>\n",
       "      <td>0</td>\n",
       "      <td>0</td>\n",
       "      <td>0</td>\n",
       "      <td>0</td>\n",
       "      <td>0</td>\n",
       "      <td>0</td>\n",
       "      <td>0</td>\n",
       "      <td>0</td>\n",
       "      <td>0</td>\n",
       "    </tr>\n",
       "  </tbody>\n",
       "</table>\n",
       "<p>1 rows × 24 columns</p>\n",
       "</div>"
      ],
      "text/plain": [
       "   movie_id title release_date video_release_date IMDb_URL  unknown  Action  \\\n",
       "0         1  test         None               None     None        0       1   \n",
       "\n",
       "   Adventure  Animation  Childrens  ...  Fantasy  Film-Noir  Horror  Musical  \\\n",
       "0          0          0          0  ...        0          0       0        0   \n",
       "\n",
       "   Mystery  Romance  Sci-Fi  Thriller  War  Western  \n",
       "0        0        0       0         0    0        0  \n",
       "\n",
       "[1 rows x 24 columns]"
      ]
     },
     "execution_count": 3,
     "metadata": {},
     "output_type": "execute_result"
    }
   ],
   "source": [
    "df_movie = pd.DataFrame([[1, \"test\", None, None, None, 0,1,0,0,0,0,0,0,0,0,0,0,0,0,0,0,0,0,0,]], \n",
    "                        columns = ['movie_id', 'title', 'release_date', 'video_release_date',\n",
    "                    'IMDb_URL', 'unknown', 'Action', 'Adventure', 'Animation',\n",
    "                    'Childrens', 'Comedy', 'Crime', 'Documentary', 'Drama',\n",
    "                    'Fantasy', 'Film-Noir', 'Horror', 'Musical', 'Mystery',\n",
    "                    'Romance', 'Sci-Fi', 'Thriller', 'War', 'Western'])\n",
    "df_movie"
   ]
  },
  {
   "cell_type": "code",
   "execution_count": 18,
   "metadata": {},
   "outputs": [
    {
     "data": {
      "text/html": [
       "<div>\n",
       "<style scoped>\n",
       "    .dataframe tbody tr th:only-of-type {\n",
       "        vertical-align: middle;\n",
       "    }\n",
       "\n",
       "    .dataframe tbody tr th {\n",
       "        vertical-align: top;\n",
       "    }\n",
       "\n",
       "    .dataframe thead th {\n",
       "        text-align: right;\n",
       "    }\n",
       "</style>\n",
       "<table border=\"1\" class=\"dataframe\">\n",
       "  <thead>\n",
       "    <tr style=\"text-align: right;\">\n",
       "      <th></th>\n",
       "      <th>1</th>\n",
       "      <th>2</th>\n",
       "      <th>3</th>\n",
       "    </tr>\n",
       "    <tr>\n",
       "      <th>user_id</th>\n",
       "      <th></th>\n",
       "      <th></th>\n",
       "      <th></th>\n",
       "    </tr>\n",
       "  </thead>\n",
       "  <tbody>\n",
       "    <tr>\n",
       "      <th>0</th>\n",
       "      <td>0</td>\n",
       "      <td>0</td>\n",
       "      <td>0</td>\n",
       "    </tr>\n",
       "    <tr>\n",
       "      <th>1</th>\n",
       "      <td>3</td>\n",
       "      <td>0</td>\n",
       "      <td>2</td>\n",
       "    </tr>\n",
       "    <tr>\n",
       "      <th>2</th>\n",
       "      <td>0</td>\n",
       "      <td>0</td>\n",
       "      <td>0</td>\n",
       "    </tr>\n",
       "    <tr>\n",
       "      <th>3</th>\n",
       "      <td>0</td>\n",
       "      <td>0</td>\n",
       "      <td>0</td>\n",
       "    </tr>\n",
       "    <tr>\n",
       "      <th>4</th>\n",
       "      <td>0</td>\n",
       "      <td>0</td>\n",
       "      <td>0</td>\n",
       "    </tr>\n",
       "  </tbody>\n",
       "</table>\n",
       "</div>"
      ],
      "text/plain": [
       "         1  2  3\n",
       "user_id         \n",
       "0        0  0  0\n",
       "1        3  0  2\n",
       "2        0  0  0\n",
       "3        0  0  0\n",
       "4        0  0  0"
      ]
     },
     "execution_count": 18,
     "metadata": {},
     "output_type": "execute_result"
    }
   ],
   "source": [
    "# test rating matrix (user x movie)\n",
    "df_ratmat = pd.DataFrame([[0, 0, 0, 0,], \n",
    "                          [1, 3, 0, 2], \n",
    "                          [2, 0, 0, 0], \n",
    "                          [3, 0, 0, 0], \n",
    "                          [4, 0, 0, 0]],\n",
    "                         columns = ['user_id', '1', '2', '3',])\n",
    "df_ratmat = df_ratmat.set_index(\"user_id\")\n",
    "df_ratmat"
   ]
  },
  {
   "cell_type": "code",
   "execution_count": 19,
   "metadata": {},
   "outputs": [
    {
     "name": "stdout",
     "output_type": "stream",
     "text": [
      "All Passed\n"
     ]
    }
   ],
   "source": [
    "app = App()\n",
    "app.configure(df_movie=df_movie,df_ratmat=df_ratmat)\n",
    "print(\"All Passed\")"
   ]
  },
  {
   "cell_type": "code",
   "execution_count": 21,
   "metadata": {},
   "outputs": [
    {
     "name": "stdout",
     "output_type": "stream",
     "text": [
      "[[0 0 0]]\n",
      "0 index: 0 user_id: 1 rating: 3 score: nan\n",
      "expected rating ===> nan\n"
     ]
    },
    {
     "data": {
      "text/plain": [
       "nan"
      ]
     },
     "execution_count": 21,
     "metadata": {},
     "output_type": "execute_result"
    }
   ],
   "source": [
    "# estimate rating by user_id = 2, movie_id = 1, K = 1\n",
    "app.bs_recommend.recommend_rating(2, 1, 1)"
   ]
  },
  {
   "cell_type": "code",
   "execution_count": null,
   "metadata": {},
   "outputs": [],
   "source": []
  }
 ],
 "metadata": {
  "kernelspec": {
   "display_name": "Python 3",
   "language": "python",
   "name": "python3"
  },
  "language_info": {
   "codemirror_mode": {
    "name": "ipython",
    "version": 3
   },
   "file_extension": ".py",
   "mimetype": "text/x-python",
   "name": "python",
   "nbconvert_exporter": "python",
   "pygments_lexer": "ipython3",
   "version": "3.8.5"
  }
 },
 "nbformat": 4,
 "nbformat_minor": 4
}
