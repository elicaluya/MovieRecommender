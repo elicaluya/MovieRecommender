{
 "cells": [
  {
   "cell_type": "markdown",
   "metadata": {},
   "source": [
    "## App"
   ]
  },
  {
   "cell_type": "code",
   "execution_count": 1,
   "metadata": {},
   "outputs": [],
   "source": [
    "import mock\n",
    "from App import App\n",
    "from Knn import Knn"
   ]
  },
  {
   "cell_type": "code",
   "execution_count": 4,
   "metadata": {},
   "outputs": [
    {
     "name": "stdout",
     "output_type": "stream",
     "text": [
      "All Passed\n"
     ]
    }
   ],
   "source": [
    "import contextlib\n",
    "with contextlib.ExitStack() as patches:\n",
    "    mock_knn = patches.enter_context(mock.patch('Knn.Knn'))\n",
    "    mock_genre = patches.enter_context(mock.patch('Genre.Genre'))\n",
    "    mock_ui = patches.enter_context(mock.patch('UI.UI'))\n",
    "    mock_su = patches.enter_context(mock.patch('Service.UserService'))\n",
    "    mock_sm = patches.enter_context(mock.patch('Service.MovieService'))\n",
    "    mock_sc = patches.enter_context(mock.patch('Service.RecommendService'))\n",
    "    mock_sr = patches.enter_context(mock.patch('Service.RatingService'))\n",
    "    mock_us = patches.enter_context(mock.patch('UserService.UserService'))\n",
    "    mock_ms = patches.enter_context(mock.patch('MovieService.MovieService'))\n",
    "    mock_cs = patches.enter_context(mock.patch('RecommendService.RecommendService'))\n",
    "    mock_rs = patches.enter_context(mock.patch('RatingService.RatingService'))\n",
    "    mock_ud = patches.enter_context(mock.patch('UserData.UserData'))\n",
    "    mock_md = patches.enter_context(mock.patch('MovieData.MovieData'))\n",
    "    mock_rd = patches.enter_context(mock.patch('RatingData.RatingData'))\n",
    "    app = App()\n",
    "    app.configure()\n",
    "    # objects are all created only once\n",
    "    mock_su.assert_called_once()\n",
    "    mock_sm.assert_called_once()\n",
    "    mock_sc.assert_called_once()\n",
    "    mock_sr.assert_called_once()\n",
    "    mock_us.assert_called_once()\n",
    "    mock_ms.assert_called_once()\n",
    "    mock_cs.assert_called_once()\n",
    "    mock_rs.assert_called_once()\n",
    "    mock_ud.assert_called_once()\n",
    "    mock_md.assert_called_once()\n",
    "    mock_rd.assert_called_once()\n",
    "    mock_ui.assert_called_once()\n",
    "    mock_genre.assert_called_once()\n",
    "    mock_knn.assert_called_once_with('correlation')\n",
    "    print(\"All Passed\")"
   ]
  },
  {
   "cell_type": "markdown",
   "metadata": {},
   "source": [
    "### Rating recommendation"
   ]
  },
  {
   "cell_type": "code",
   "execution_count": 14,
   "metadata": {},
   "outputs": [
    {
     "name": "stdout",
     "output_type": "stream",
     "text": [
      "All Passed\n"
     ]
    }
   ],
   "source": [
    "app = App()\n",
    "app.configure()\n",
    "print(\"All Passed\")"
   ]
  },
  {
   "cell_type": "code",
   "execution_count": null,
   "metadata": {},
   "outputs": [],
   "source": []
  }
 ],
 "metadata": {
  "kernelspec": {
   "display_name": "Python 3",
   "language": "python",
   "name": "python3"
  },
  "language_info": {
   "codemirror_mode": {
    "name": "ipython",
    "version": 3
   },
   "file_extension": ".py",
   "mimetype": "text/x-python",
   "name": "python",
   "nbconvert_exporter": "python",
   "pygments_lexer": "ipython3",
   "version": "3.8.5"
  }
 },
 "nbformat": 4,
 "nbformat_minor": 4
}
