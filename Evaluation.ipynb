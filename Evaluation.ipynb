{
 "cells": [
  {
   "cell_type": "markdown",
   "metadata": {},
   "source": [
    "## Find idea K for Knn"
   ]
  },
  {
   "cell_type": "code",
   "execution_count": 1,
   "metadata": {},
   "outputs": [],
   "source": [
    "import sklearn\n",
    "import mock\n",
    "from App import App"
   ]
  },
  {
   "cell_type": "code",
   "execution_count": 2,
   "metadata": {},
   "outputs": [],
   "source": [
    "# load instance with real data\n",
    "app = App()\n",
    "app.configure()"
   ]
  },
  {
   "cell_type": "code",
   "execution_count": 3,
   "metadata": {},
   "outputs": [
    {
     "name": "stdout",
     "output_type": "stream",
     "text": [
      "     1    2    3    4    5    6    7    8    9   10  ...  1673  1674  1675  \\\n",
      "0  4.0  0.0  0.0  0.0  0.0  0.0  0.0  0.0  0.0  0.0  ...   0.0   0.0   0.0   \n",
      "\n",
      "   1676  1677  1678  1679  1680  1681  1682  \n",
      "0   0.0   0.0   0.0   0.0   0.0   0.0   0.0  \n",
      "\n",
      "[1 rows x 1682 columns]\n",
      "0 index: 21 user_id: 545 rating: 2 score: 0.409003364689843\n",
      "1 index: 6 user_id: 137 rating: 5 score: 0.4078907653319299\n",
      "2 index: 15 user_id: 479 rating: 3 score: 0.40081602758207935\n",
      "3 index: 9 user_id: 230 rating: 4 score: 0.3990257375685027\n",
      "4 index: 25 user_id: 660 rating: 2 score: 0.3795310556400706\n",
      "5 index: 31 user_id: 831 rating: 3 score: 0.3631393547904319\n",
      "6 index: 0 user_id: 1 rating: 1 score: 0.34641493094394993\n",
      "7 index: 23 user_id: 592 rating: 1 score: 0.3307183688962201\n",
      "8 index: 13 user_id: 416 rating: 3 score: 0.3079044331426348\n",
      "9 index: 7 user_id: 145 rating: 3 score: 0.2816441151834671\n",
      "expected rating ===> 2.7440785462390673\n"
     ]
    }
   ],
   "source": [
    "app.bs_recommend.recommend_rating(944, 266)"
   ]
  },
  {
   "cell_type": "code",
   "execution_count": 10,
   "metadata": {},
   "outputs": [
    {
     "data": {
      "text/plain": [
       "['braycurtis',\n",
       " 'canberra',\n",
       " 'chebyshev',\n",
       " 'cityblock',\n",
       " 'correlation',\n",
       " 'cosine',\n",
       " 'cosine',\n",
       " 'dice',\n",
       " 'euclidean',\n",
       " 'hamming',\n",
       " 'haversine',\n",
       " 'jaccard',\n",
       " 'kulsinski',\n",
       " 'l1',\n",
       " 'l2',\n",
       " 'mahalanobis',\n",
       " 'manhattan',\n",
       " 'matching',\n",
       " 'minkowski',\n",
       " 'nan_euclidean',\n",
       " 'precomputed',\n",
       " 'rogerstanimoto',\n",
       " 'russellrao',\n",
       " 'seuclidean',\n",
       " 'sokalmichener',\n",
       " 'sokalsneath',\n",
       " 'sqeuclidean',\n",
       " 'wminkowski',\n",
       " 'yule']"
      ]
     },
     "execution_count": 10,
     "metadata": {},
     "output_type": "execute_result"
    }
   ],
   "source": [
    "sorted(sklearn.neighbors.VALID_METRICS['brute'])"
   ]
  },
  {
   "cell_type": "code",
   "execution_count": null,
   "metadata": {},
   "outputs": [],
   "source": []
  },
  {
   "cell_type": "code",
   "execution_count": null,
   "metadata": {},
   "outputs": [],
   "source": []
  },
  {
   "cell_type": "code",
   "execution_count": null,
   "metadata": {},
   "outputs": [],
   "source": []
  },
  {
   "cell_type": "code",
   "execution_count": null,
   "metadata": {},
   "outputs": [],
   "source": []
  },
  {
   "cell_type": "code",
   "execution_count": null,
   "metadata": {},
   "outputs": [],
   "source": []
  },
  {
   "cell_type": "code",
   "execution_count": 6,
   "metadata": {},
   "outputs": [
    {
     "name": "stdout",
     "output_type": "stream",
     "text": [
      "All Passed\n"
     ]
    }
   ],
   "source": [
    "import contextlib\n",
    "with contextlib.ExitStack() as patches:\n",
    "    mock_knn = patches.enter_context(mock.patch('App.Knn'))\n",
    "    mock_genre = patches.enter_context(mock.patch('App.Genre'))\n",
    "    mock_bs = patches.enter_context(mock.patch('App.bs'))\n",
    "    mock_ms = patches.enter_context(mock.patch('App.ms'))\n",
    "    mock_us = patches.enter_context(mock.patch('App.us'))\n",
    "    mock_cs = patches.enter_context(mock.patch('App.cs'))\n",
    "    mock_rs = patches.enter_context(mock.patch('App.rs'))\n",
    "    mock_md = patches.enter_context(mock.patch('App.md'))\n",
    "    mock_ud = patches.enter_context(mock.patch('App.ud'))\n",
    "    mock_rd = patches.enter_context(mock.patch('App.rd'))\n",
    "    mock_ui = patches.enter_context(mock.patch('App.UI'))\n",
    "    app = App()\n",
    "    app.configure()\n",
    "    mock_bs.MovieService.assert_called_once()\n",
    "    mock_bs.UserService.assert_called_once()\n",
    "    mock_bs.RatingService.assert_called_once()\n",
    "    mock_bs.RecommendService.assert_called_once()\n",
    "    mock_ms.MovieService.assert_called_once()\n",
    "    mock_us.UserService.assert_called_once()\n",
    "    mock_cs.RecommendService.assert_called_once()\n",
    "    mock_rs.RatingService.assert_called_once()\n",
    "    mock_md.MovieData.assert_called_once()\n",
    "    mock_ud.UserData.assert_called_once()\n",
    "    mock_rd.RatingData.assert_called_once()\n",
    "    mock_ui.assert_called_once()\n",
    "    mock_knn.assert_called_once_with('pearson', 10)\n",
    "    mock_genre.assert_called_once()\n",
    "    print(\"All Passed\")"
   ]
  },
  {
   "cell_type": "code",
   "execution_count": 25,
   "metadata": {},
   "outputs": [
    {
     "data": {
      "text/plain": [
       "'unknown'"
      ]
     },
     "execution_count": 25,
     "metadata": {},
     "output_type": "execute_result"
    }
   ],
   "source": [
    "app.bs_movie.get_movie_by_title(\"unknown\").get_title()"
   ]
  },
  {
   "cell_type": "code",
   "execution_count": null,
   "metadata": {},
   "outputs": [],
   "source": []
  }
 ],
 "metadata": {
  "kernelspec": {
   "display_name": "Python 3",
   "language": "python",
   "name": "python3"
  },
  "language_info": {
   "codemirror_mode": {
    "name": "ipython",
    "version": 3
   },
   "file_extension": ".py",
   "mimetype": "text/x-python",
   "name": "python",
   "nbconvert_exporter": "python",
   "pygments_lexer": "ipython3",
   "version": "3.8.5"
  }
 },
 "nbformat": 4,
 "nbformat_minor": 4
}
