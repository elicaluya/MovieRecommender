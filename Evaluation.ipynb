{
 "cells": [
  {
   "cell_type": "markdown",
   "metadata": {},
   "source": [
    "## Finding idea K for Knn"
   ]
  },
  {
   "cell_type": "code",
   "execution_count": 1,
   "metadata": {},
   "outputs": [],
   "source": [
    "import sklearn\n",
    "import pandas as pd\n",
    "import numpy as np\n",
    "import matplotlib.pyplot as plt\n",
    "%matplotlib inline\n",
    "from App import App"
   ]
  },
  {
   "cell_type": "code",
   "execution_count": 8,
   "metadata": {},
   "outputs": [],
   "source": [
    "def test_dataset(app, dataMat, K):\n",
    "    total_errors = 0.0\n",
    "    total_count = 0\n",
    "    number_of_items = np.shape(dataMat)[1]\n",
    "    for user in range(len(dataMat)):\n",
    "        for item in range(number_of_items):\n",
    "            rating = dataMat[user, item]\n",
    "            if rating == 0:\n",
    "                continue\n",
    "            # user id is 1 based, but dataset has extra record of user_id = 0\n",
    "            # movie id is 1-based\n",
    "            estimatedRating = app.bs_recommend.recommend_rating(user, item + 1, K)\n",
    "            total_errors += abs(estimatedRating - rating)\n",
    "            total_count += 1\n",
    "    MAE = total_errors / total_count\n",
    "    print('Mean Absoloute Error for K=', K, ' : ', MAE)\n",
    "    return MAE"
   ]
  },
  {
   "cell_type": "code",
   "execution_count": 9,
   "metadata": {},
   "outputs": [],
   "source": [
    "def find_ideal_K(app, dataMat):\n",
    "    maes = []\n",
    "    for k in range(1,21):\n",
    "        maes.append(test_dataset(app, dataMat, k))\n",
    "    plt.figure(figsize=(10,2))\n",
    "    plt.plot(range(1,21),maes,color='blue', linestyle='dashed', \n",
    "             marker='o',markerfacecolor='red', markersize=10)\n",
    "    plt.title('MAE vs. K Value')\n",
    "    plt.xlabel('K')\n",
    "    plt.ylabel('MAE')\n",
    "    print(\"Minimum MAE:\",min(maes),\"at K =\",maes.index(min(maes)) + 1)"
   ]
  },
  {
   "cell_type": "code",
   "execution_count": 10,
   "metadata": {},
   "outputs": [],
   "source": [
    "df_ratmat = pd.read_csv(\n",
    "            \"movielens/Movielens-02/data_matrix.csv\", index_col=0)\n",
    "ratmat = np.mat(df_ratmat)"
   ]
  },
  {
   "cell_type": "markdown",
   "metadata": {},
   "source": [
    "#### Expedite evaluation performance, clear out some randomly selected ratings. Note that actual rating dataset is not affected since it's contained inside App object. "
   ]
  },
  {
   "cell_type": "code",
   "execution_count": 12,
   "metadata": {},
   "outputs": [],
   "source": [
    "from random import random\n",
    "# seeded based on realtime clock\n",
    "n_row = ratmat.shape[0]\n",
    "n_col = ratmat.shape[1]\n",
    "for user in range(n_row):\n",
    "    for item in range(n_col):\n",
    "        rating = ratmat[user, item]\n",
    "        if rating == 0:\n",
    "            continue\n",
    "        # take 5% of rating data\n",
    "        if random() >= 0.05:\n",
    "            ratmat[user, item] = 0.0"
   ]
  },
  {
   "cell_type": "code",
   "execution_count": 11,
   "metadata": {},
   "outputs": [],
   "source": [
    "# load instance with real data, similarity metric = cosine\n",
    "app = App()\n",
    "app.configure(knn_sim_metric=\"cosine\")"
   ]
  },
  {
   "cell_type": "code",
   "execution_count": 13,
   "metadata": {},
   "outputs": [
    {
     "name": "stdout",
     "output_type": "stream",
     "text": [
      "Mean Absoloute Error for K= 1  :  0.9641917863645559\n",
      "Mean Absoloute Error for K= 2  :  0.8764426807247688\n",
      "Mean Absoloute Error for K= 3  :  0.8485958293138495\n",
      "Mean Absoloute Error for K= 4  :  0.8365962171259622\n",
      "Mean Absoloute Error for K= 5  :  0.825987153684344\n",
      "Mean Absoloute Error for K= 6  :  0.821689314564454\n",
      "Mean Absoloute Error for K= 7  :  0.8180032099438038\n",
      "Mean Absoloute Error for K= 8  :  0.812092781507293\n",
      "Mean Absoloute Error for K= 9  :  0.8078414201121699\n",
      "Mean Absoloute Error for K= 10  :  0.803909832209835\n",
      "Mean Absoloute Error for K= 11  :  0.8038146045531643\n",
      "Mean Absoloute Error for K= 12  :  0.80331086108455\n",
      "Mean Absoloute Error for K= 13  :  0.801757922148754\n",
      "Mean Absoloute Error for K= 14  :  0.7998480846354636\n",
      "Mean Absoloute Error for K= 15  :  0.798722891293802\n",
      "Mean Absoloute Error for K= 16  :  0.7980950276863744\n",
      "Mean Absoloute Error for K= 17  :  0.7975705637752182\n",
      "Mean Absoloute Error for K= 18  :  0.7961880710892083\n",
      "Mean Absoloute Error for K= 19  :  0.7950029165412121\n",
      "Mean Absoloute Error for K= 20  :  0.7942346167392474\n",
      "Minimum MAE: 0.7942346167392474 at K = 20\n"
     ]
    },
    {
     "data": {
      "image/png": "[encoded data removed]",
      "text/plain": [
       "<Figure size 720x144 with 1 Axes>"
      ]
     },
     "metadata": {
      "needs_background": "light"
     },
     "output_type": "display_data"
    }
   ],
   "source": [
    "find_ideal_K(app, ratmat)"
   ]
  },
  {
   "cell_type": "markdown",
   "metadata": {},
   "source": [
    "#### Ideal number could be around 10"
   ]
  },
  {
   "cell_type": "code",
   "execution_count": 14,
   "metadata": {},
   "outputs": [],
   "source": [
    "# load instance with real data, similarity metric = pearson correlation\n",
    "app = App()\n",
    "app.configure(knn_sim_metric=\"correlation\")"
   ]
  },
  {
   "cell_type": "code",
   "execution_count": 15,
   "metadata": {},
   "outputs": [
    {
     "name": "stdout",
     "output_type": "stream",
     "text": [
      "Mean Absoloute Error for K= 1  :  0.9583249039045114\n",
      "Mean Absoloute Error for K= 2  :  0.8774232256015583\n",
      "Mean Absoloute Error for K= 3  :  0.8525691172201892\n",
      "Mean Absoloute Error for K= 4  :  0.838480402862594\n",
      "Mean Absoloute Error for K= 5  :  0.8277774437846569\n",
      "Mean Absoloute Error for K= 6  :  0.8203415647198389\n",
      "Mean Absoloute Error for K= 7  :  0.8115064416591217\n",
      "Mean Absoloute Error for K= 8  :  0.8067767108647264\n",
      "Mean Absoloute Error for K= 9  :  0.8046151865227777\n",
      "Mean Absoloute Error for K= 10  :  0.8029638844021081\n",
      "Mean Absoloute Error for K= 11  :  0.7993218029605805\n",
      "Mean Absoloute Error for K= 12  :  0.7982422647842495\n",
      "Mean Absoloute Error for K= 13  :  0.7971919587420124\n",
      "Mean Absoloute Error for K= 14  :  0.7955407662094411\n",
      "Mean Absoloute Error for K= 15  :  0.7954418200968084\n",
      "Mean Absoloute Error for K= 16  :  0.7956506021229611\n",
      "Mean Absoloute Error for K= 17  :  0.7941960381975182\n",
      "Mean Absoloute Error for K= 18  :  0.7923780252910361\n",
      "Mean Absoloute Error for K= 19  :  0.7923185743529879\n",
      "Mean Absoloute Error for K= 20  :  0.7909617155795275\n",
      "Minimum MAE: 0.7909617155795275 at K = 20\n"
     ]
    },
    {
     "data": {
      "image/png": "[encoded data removed]",
      "text/plain": [
       "<Figure size 720x144 with 1 Axes>"
      ]
     },
     "metadata": {
      "needs_background": "light"
     },
     "output_type": "display_data"
    }
   ],
   "source": [
    "find_ideal_K(app, ratmat)"
   ]
  },
  {
   "cell_type": "markdown",
   "metadata": {},
   "source": [
    "#### Ideal number could be about K = 10 and metric = 'correlation'"
   ]
  },
  {
   "cell_type": "code",
   "execution_count": null,
   "metadata": {},
   "outputs": [],
   "source": []
  },
  {
   "cell_type": "code",
   "execution_count": null,
   "metadata": {},
   "outputs": [],
   "source": []
  },
  {
   "cell_type": "code",
   "execution_count": 11,
   "metadata": {},
   "outputs": [
    {
     "data": {
      "text/plain": [
       "944"
      ]
     },
     "execution_count": 11,
     "metadata": {},
     "output_type": "execute_result"
    }
   ],
   "source": [
    "len(df_ratmat)"
   ]
  },
  {
   "cell_type": "code",
   "execution_count": 23,
   "metadata": {},
   "outputs": [
    {
     "data": {
      "text/plain": [
       "matrix([[238, 169,  28,   7, 190, 205, 147, 200, 446,  78]])"
      ]
     },
     "execution_count": 23,
     "metadata": {},
     "output_type": "execute_result"
    }
   ],
   "source": [
    "ratmat.sum(0)[:,100:110]"
   ]
  },
  {
   "cell_type": "code",
   "execution_count": 3,
   "metadata": {},
   "outputs": [
    {
     "name": "stdout",
     "output_type": "stream",
     "text": [
      "     1    2    3    4    5    6    7    8    9   10  ...  1673  1674  1675  \\\n",
      "0  4.0  0.0  0.0  0.0  0.0  0.0  0.0  0.0  0.0  0.0  ...   0.0   0.0   0.0   \n",
      "\n",
      "   1676  1677  1678  1679  1680  1681  1682  \n",
      "0   0.0   0.0   0.0   0.0   0.0   0.0   0.0  \n",
      "\n",
      "[1 rows x 1682 columns]\n",
      "0 index: 21 user_id: 545 rating: 2 score: 0.409003364689843\n",
      "1 index: 6 user_id: 137 rating: 5 score: 0.4078907653319299\n",
      "2 index: 15 user_id: 479 rating: 3 score: 0.40081602758207935\n",
      "3 index: 9 user_id: 230 rating: 4 score: 0.3990257375685027\n",
      "4 index: 25 user_id: 660 rating: 2 score: 0.3795310556400706\n",
      "5 index: 31 user_id: 831 rating: 3 score: 0.3631393547904319\n",
      "6 index: 0 user_id: 1 rating: 1 score: 0.34641493094394993\n",
      "expected rating ===> 2.9014875741290163\n"
     ]
    },
    {
     "data": {
      "text/plain": [
       "2.9014875741290163"
      ]
     },
     "execution_count": 3,
     "metadata": {},
     "output_type": "execute_result"
    }
   ],
   "source": [
    "app.bs_recommend.recommend_rating(944, 266, 7)"
   ]
  },
  {
   "cell_type": "code",
   "execution_count": 4,
   "metadata": {},
   "outputs": [
    {
     "data": {
      "text/plain": [
       "10"
      ]
     },
     "execution_count": 4,
     "metadata": {},
     "output_type": "execute_result"
    }
   ],
   "source": [
    "app.knn_n_neighbor"
   ]
  },
  {
   "cell_type": "code",
   "execution_count": 5,
   "metadata": {},
   "outputs": [
    {
     "name": "stdout",
     "output_type": "stream",
     "text": [
      "[[0 0 0 ... 0 0 0]]\n",
      "0 index: 390 user_id: 817 rating: 4 score: 0.289102996424486\n",
      "1 index: 263 user_id: 550 rating: 3 score: 0.27078441134364106\n",
      "2 index: 275 user_id: 580 rating: 3 score: 0.25307086369525844\n",
      "3 index: 153 user_id: 324 rating: 5 score: 0.22964688215997575\n",
      "4 index: 136 user_id: 294 rating: 5 score: 0.21576864040858545\n",
      "5 index: 397 user_id: 831 rating: 4 score: 0.21261172988812727\n",
      "6 index: 346 user_id: 730 rating: 4 score: 0.20679313348248085\n",
      "7 index: 31 user_id: 66 rating: 3 score: 0.205779128967424\n",
      "8 index: 342 user_id: 721 rating: 5 score: 0.2016646503060242\n",
      "9 index: 120 user_id: 265 rating: 5 score: 0.2002217484533272\n",
      "expected rating ===> 4.051485622833065\n"
     ]
    },
    {
     "data": {
      "text/plain": [
       "4.051485622833065"
      ]
     },
     "execution_count": 5,
     "metadata": {},
     "output_type": "execute_result"
    }
   ],
   "source": [
    "app.bs_recommend.recommend_rating(4, 1, 10)"
   ]
  },
  {
   "cell_type": "code",
   "execution_count": 6,
   "metadata": {},
   "outputs": [
    {
     "name": "stdout",
     "output_type": "stream",
     "text": [
      "[[0 0 0 ... 0 0 0]]\n",
      "0 index: 136 user_id: 294 rating: 5 score: 0.30224657222291607\n",
      "1 index: 22 user_id: 54 rating: 4 score: 0.26423072677213455\n",
      "2 index: 397 user_id: 831 rating: 4 score: 0.23771433176811718\n",
      "3 index: 298 user_id: 635 rating: 4 score: 0.23749177615316108\n",
      "4 index: 294 user_id: 624 rating: 4 score: 0.23606414973887402\n",
      "5 index: 153 user_id: 324 rating: 5 score: 0.23549394523807798\n",
      "6 index: 423 user_id: 894 rating: 4 score: 0.23487352268210682\n",
      "7 index: 437 user_id: 919 rating: 4 score: 0.2242006999787286\n",
      "8 index: 250 user_id: 526 rating: 5 score: 0.20973185515755755\n",
      "9 index: 342 user_id: 721 rating: 5 score: 0.20603688746913207\n",
      "expected rating ===> 4.399277861897961\n"
     ]
    },
    {
     "data": {
      "text/plain": [
       "4.399277861897961"
      ]
     },
     "execution_count": 6,
     "metadata": {},
     "output_type": "execute_result"
    }
   ],
   "source": [
    "app.bs_recommend.recommend_rating(3, 1, 10)"
   ]
  },
  {
   "cell_type": "code",
   "execution_count": 7,
   "metadata": {},
   "outputs": [
    {
     "name": "stdout",
     "output_type": "stream",
     "text": [
      "[[5 0 0 ... 0 0 0]]\n",
      "0 index: 14 user_id: 26 rating: 3 score: 0.5426445000762526\n",
      "1 index: 293 user_id: 624 rating: 4 score: 0.5313629127895768\n",
      "2 index: 22 user_id: 54 rating: 4 score: 0.529469768715587\n",
      "3 index: 449 user_id: 938 rating: 4 score: 0.49001110249999114\n",
      "4 index: 204 user_id: 432 rating: 2 score: 0.4810694083658399\n",
      "5 index: 67 user_id: 141 rating: 3 score: 0.4734906941547976\n",
      "6 index: 275 user_id: 582 rating: 4 score: 0.45709171649125613\n",
      "7 index: 345 user_id: 730 rating: 4 score: 0.4568265608481732\n",
      "8 index: 439 user_id: 923 rating: 3 score: 0.45373605769988223\n",
      "9 index: 249 user_id: 526 rating: 5 score: 0.4469318782514028\n",
      "expected rating ===> 3.591768998958921\n"
     ]
    },
    {
     "data": {
      "text/plain": [
       "3.591768998958921"
      ]
     },
     "execution_count": 7,
     "metadata": {},
     "output_type": "execute_result"
    }
   ],
   "source": [
    "app.bs_recommend.recommend_rating(294, 1, 10)"
   ]
  },
  {
   "cell_type": "code",
   "execution_count": 10,
   "metadata": {},
   "outputs": [
    {
     "name": "stdout",
     "output_type": "stream",
     "text": [
      "idx: [136]\n",
      "[[5 0 0 ... 0 0 0]]\n",
      "0 index: 14 user_id: 26 rating: 3 score: 0.5426445000762526\n",
      "1 index: 293 user_id: 624 rating: 4 score: 0.5313629127895768\n",
      "2 index: 22 user_id: 54 rating: 4 score: 0.529469768715587\n",
      "3 index: 449 user_id: 938 rating: 4 score: 0.49001110249999114\n",
      "4 index: 204 user_id: 432 rating: 2 score: 0.4810694083658399\n",
      "5 index: 67 user_id: 141 rating: 3 score: 0.4734906941547976\n",
      "6 index: 275 user_id: 582 rating: 4 score: 0.45709171649125613\n",
      "7 index: 345 user_id: 730 rating: 4 score: 0.4568265608481732\n",
      "8 index: 439 user_id: 923 rating: 3 score: 0.45373605769988223\n",
      "9 index: 249 user_id: 526 rating: 5 score: 0.4469318782514028\n",
      "expected rating ===> 3.591768998958921\n"
     ]
    },
    {
     "data": {
      "text/plain": [
       "3.591768998958921"
      ]
     },
     "execution_count": 10,
     "metadata": {},
     "output_type": "execute_result"
    }
   ],
   "source": [
    "app.bs_recommend.recommend_rating(294, 1, 10)"
   ]
  },
  {
   "cell_type": "code",
   "execution_count": null,
   "metadata": {},
   "outputs": [],
   "source": []
  }
 ],
 "metadata": {
  "kernelspec": {
   "display_name": "Python 3",
   "language": "python",
   "name": "python3"
  },
  "language_info": {
   "codemirror_mode": {
    "name": "ipython",
    "version": 3
   },
   "file_extension": ".py",
   "mimetype": "text/x-python",
   "name": "python",
   "nbconvert_exporter": "python",
   "pygments_lexer": "ipython3",
   "version": "3.8.5"
  }
 },
 "nbformat": 4,
 "nbformat_minor": 4
}
